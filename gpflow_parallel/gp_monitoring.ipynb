{
 "cells": [
  {
   "cell_type": "code",
   "execution_count": 1,
   "metadata": {},
   "outputs": [
    {
     "name": "stderr",
     "output_type": "stream",
     "text": [
      "2024-05-22 09:32:35.646322: I external/local_tsl/tsl/cuda/cudart_stub.cc:32] Could not find cuda drivers on your machine, GPU will not be used.\n",
      "2024-05-22 09:32:35.840065: I external/local_tsl/tsl/cuda/cudart_stub.cc:32] Could not find cuda drivers on your machine, GPU will not be used.\n",
      "2024-05-22 09:32:36.463423: I tensorflow/core/platform/cpu_feature_guard.cc:210] This TensorFlow binary is optimized to use available CPU instructions in performance-critical operations.\n",
      "To enable the following instructions: AVX2 FMA, in other operations, rebuild TensorFlow with the appropriate compiler flags.\n",
      "2024-05-22 09:32:38.006751: W tensorflow/compiler/tf2tensorrt/utils/py_utils.cc:38] TF-TRT Warning: Could not find TensorRT\n"
     ]
    }
   ],
   "source": [
    "import tensorflow as tf\n",
    "import gpflow\n",
    "import tensorflow_probability as tfp\n",
    "import numpy as np\n",
    "\n",
    "tf.random.set_seed(7)\n"
   ]
  },
  {
   "cell_type": "code",
   "execution_count": 2,
   "metadata": {},
   "outputs": [],
   "source": [
    "def generate_regressor(x_original, n_regressors):\n",
    "    \"\"\"Pad X with zeros from left for #regressors-1 for each data point\n",
    "    roll over X where window size equals #regressors\n",
    "\n",
    "    Args:\n",
    "        x_original (_type_): _description_\n",
    "        n_regressors (_type_): _description_\n",
    "\n",
    "    Returns:\n",
    "        _type_: _description_\n",
    "    \"\"\"\n",
    "    X = []\n",
    "    x_padded = np.pad(x_original, pad_width=(n_regressors, 0), mode=\"constant\", constant_values=(0))\n",
    "    for _ in range(len(x_original)):\n",
    "        x_padded = np.roll(x_padded, -1)\n",
    "        X.append(x_padded[:n_regressors])\n",
    "\n",
    "    X = np.array(X, dtype='f')\n",
    "\n",
    "    return X\n",
    "\n",
    "\n",
    "def load_data(train_in_path, train_out_path, test_in_path, test_out_path, size_train: int, size_test: int, n_regressors: int):\n",
    "    \"\"\"_summary_\n",
    "\n",
    "    Args:\n",
    "        train_in_path (_type_): _description_\n",
    "        train_out_path (_type_): _description_\n",
    "        test_in_path (_type_): _description_\n",
    "        test_out_path (_type_): _description_\n",
    "        size (int): _description_\n",
    "        n_regressors (int): _description_\n",
    "\n",
    "    Returns:\n",
    "        _type_: _description_\n",
    "    \"\"\"\n",
    "\n",
    "    x_train_in = np.loadtxt(train_in_path, dtype='f')[:size_train]\n",
    "    x_test_in = np.loadtxt(test_in_path, dtype='f')[:size_test]\n",
    "\n",
    "    X_train = generate_regressor(x_train_in, n_regressors)\n",
    "    X_test = generate_regressor(x_test_in, n_regressors)\n",
    "\n",
    "    Y_train = np.loadtxt(train_out_path, dtype='f')[:size_train, None]\n",
    "    Y_test = np.loadtxt(test_out_path, dtype='f')[:size_test, None]\n",
    "\n",
    "    return X_train, Y_train, X_test, Y_test"
   ]
  },
  {
   "cell_type": "code",
   "execution_count": 97,
   "metadata": {},
   "outputs": [],
   "source": [
    "def train(X, Y, params_summary: bool = False):\n",
    "    \"\"\"_summary_\n",
    "\n",
    "    Args:\n",
    "        X (_type_): _description_\n",
    "        Y (_type_): _description_\n",
    "\n",
    "    Returns:\n",
    "        _type_: _description_\n",
    "    \"\"\"\n",
    "    model = gpflow.models.GPR(\n",
    "        (X, Y),\n",
    "        kernel= gpflow.kernels.SquaredExponential(variance=1.0, lengthscales=1.0), # gpflow.kernels.White(0.1) + \n",
    "        # mean_function = gpflow.functions.Constant(),\n",
    "        likelihood = gpflow.likelihoods.Gaussian(0.1)\n",
    "        # noise_variance = 0.2,\n",
    "    )\n",
    "    \n",
    "    if params_summary:\n",
    "        gpflow.utilities.print_summary(model)\n",
    "\n",
    "    print(model.trainable_variables)\n",
    "    # opt = gpflow.optimizers.Scipy()\n",
    "    # opt.minimize(model.training_loss, model.trainable_variables)\n",
    "\n",
    "    return model"
   ]
  },
  {
   "cell_type": "code",
   "execution_count": 100,
   "metadata": {},
   "outputs": [
    {
     "name": "stdout",
     "output_type": "stream",
     "text": [
      "(<tf.Variable 'softplus:0' shape=() dtype=float32, numpy=0.54132485>, <tf.Variable 'softplus:0' shape=() dtype=float32, numpy=0.54132485>, <tf.Variable 'chain_of_shift_of_softplus:0' shape=() dtype=float32, numpy=-2.252179>)\n"
     ]
    }
   ],
   "source": [
    "train_in_file = \"../src/data/training/training_input.txt\"\n",
    "train_out_file = \"../src/data/training/training_output.txt\"\n",
    "test_in_file = \"../src/data/test/test_input.txt\"\n",
    "test_out_file = \"../src/data/test/test_output.txt\"\n",
    "\n",
    "size_train = 10\n",
    "size_test = 10\n",
    "n_regressors = 100\n",
    "\n",
    "X_train, Y_train, X_test, Y_test = load_data(\n",
    "    train_in_file,\n",
    "    train_out_file,\n",
    "    test_in_file,\n",
    "    test_out_file,\n",
    "    size_train,\n",
    "    size_test,\n",
    "    n_regressors,\n",
    ")\n",
    "\n",
    "gpflow.config.set_default_summary_fmt(\"notebook\")\n",
    "gpflow.config.set_default_float(np.float32)\n",
    "model = train(X_train, Y_train)"
   ]
  },
  {
   "cell_type": "code",
   "execution_count": 101,
   "metadata": {},
   "outputs": [
    {
     "data": {
      "text/plain": [
       "(<tf.Variable 'softplus:0' shape=() dtype=float32, numpy=0.54132485>,)"
      ]
     },
     "execution_count": 101,
     "metadata": {},
     "output_type": "execute_result"
    }
   ],
   "source": [
    "gpflow.utilities.set_trainable(model.kernel.lengthscales, True)\n",
    "gpflow.utilities.set_trainable(model.kernel.variance, False)\n",
    "gpflow.utilities.set_trainable(model.likelihood, False)\n",
    "    \n",
    "model.trainable_variables"
   ]
  },
  {
   "cell_type": "code",
   "execution_count": 102,
   "metadata": {},
   "outputs": [
    {
     "name": "stdout",
     "output_type": "stream",
     "text": [
      "<Parameter: name=softplus, dtype=float32, shape=[], fn=\"softplus\", numpy=1.0>\n",
      "<tf.Variable 'softplus:0' shape=() dtype=float32, numpy=0.54132485>\n",
      "tfp.bijectors.Softplus(\"softplus\", batch_shape=[], min_event_ndims=0)\n"
     ]
    }
   ],
   "source": [
    "# model.trainable_parameters\n",
    "param = model.kernel.parameters[0]\n",
    "print(param)\n",
    "print(param.unconstrained_variable)  # this is what the optimizer will see\n",
    "print(param.transform)  # the above two are related via this"
   ]
  },
  {
   "cell_type": "code",
   "execution_count": 103,
   "metadata": {},
   "outputs": [
    {
     "name": "stdout",
     "output_type": "stream",
     "text": [
      "<Parameter: name=chain_of_shift_of_softplus, dtype=float32, shape=[], fn=\"chain_of_shift_of_softplus\", numpy=0.1>\n",
      "<tf.Variable 'chain_of_shift_of_softplus:0' shape=() dtype=float32, numpy=-2.252179>\n",
      "tfp.bijectors.Chain(\"chain_of_shift_of_softplus\", batch_shape=[], min_event_ndims=0, bijectors=[Shift, Softplus])\n",
      "{'shift': <tf.Tensor: shape=(), dtype=float32, numpy=1e-06>, 'validate_args': False, 'name': 'shift'}\n",
      "{'hinge_softness': None, 'low': None, 'validate_args': False, 'name': 'softplus'}\n"
     ]
    }
   ],
   "source": [
    "# model.trainable_parameters\n",
    "param = model.likelihood.parameters[0]\n",
    "print(param)\n",
    "print(param.unconstrained_variable)  # this is what the optimizer will see\n",
    "print(param.transform)  # the above two are related via this\n",
    "print(param.transform.bijectors[0].parameters)\n",
    "print(param.transform.bijectors[1].parameters)"
   ]
  },
  {
   "cell_type": "code",
   "execution_count": 104,
   "metadata": {},
   "outputs": [
    {
     "name": "stdout",
     "output_type": "stream",
     "text": [
      "tf.Tensor([[-6.908256]], shape=(1, 1), dtype=float32)\n",
      "0.001000\n"
     ]
    }
   ],
   "source": [
    "p = np.array([0.001], dtype='f')\n",
    "soft = tfp.bijectors.Softplus(hinge_softness=None, validate_args=False, low=None)\n",
    "sh = tfp.bijectors.Shift([1e-06], validate_args=False)\n",
    "p_u = soft.inverse(sh.inverse([p]))\n",
    "print(p_u)\n",
    "p_f = sh.forward(soft.forward(p_u))\n",
    "print(f\"{p_f.numpy()[0][0]:.6f}\")"
   ]
  },
  {
   "cell_type": "code",
   "execution_count": 105,
   "metadata": {},
   "outputs": [
    {
     "data": {
      "text/html": [
       "<table>\n",
       "<thead>\n",
       "<tr><th>name                   </th><th>class    </th><th>transform       </th><th>prior  </th><th>trainable  </th><th>shape  </th><th>dtype  </th><th style=\"text-align: right;\">  value</th></tr>\n",
       "</thead>\n",
       "<tbody>\n",
       "<tr><td>GPR.kernel.variance    </td><td>Parameter</td><td>Softplus        </td><td>       </td><td>False      </td><td>()     </td><td>float32</td><td style=\"text-align: right;\">    1  </td></tr>\n",
       "<tr><td>GPR.kernel.lengthscales</td><td>Parameter</td><td>Softplus        </td><td>       </td><td>True       </td><td>()     </td><td>float32</td><td style=\"text-align: right;\">    1  </td></tr>\n",
       "<tr><td>GPR.likelihood.variance</td><td>Parameter</td><td>Softplus + Shift</td><td>       </td><td>False      </td><td>()     </td><td>float32</td><td style=\"text-align: right;\">    0.1</td></tr>\n",
       "</tbody>\n",
       "</table>"
      ],
      "text/plain": [
       "<IPython.core.display.HTML object>"
      ]
     },
     "metadata": {},
     "output_type": "display_data"
    },
    {
     "name": "stdout",
     "output_type": "stream",
     "text": [
      "inital loss  tf.Tensor(1.2938163, shape=(), dtype=float32)   None\n",
      "1.2937419   <Parameter: name=softplus, dtype=float32, shape=[], fn=\"softplus\", numpy=0.999368>\n",
      "1.2936685   <Parameter: name=softplus, dtype=float32, shape=[], fn=\"softplus\", numpy=0.9987364>\n",
      "1.2935956   <Parameter: name=softplus, dtype=float32, shape=[], fn=\"softplus\", numpy=0.9981053>\n",
      "1.2935236   <Parameter: name=softplus, dtype=float32, shape=[], fn=\"softplus\", numpy=0.99747485>\n",
      "1.2934520   <Parameter: name=softplus, dtype=float32, shape=[], fn=\"softplus\", numpy=0.9968451>\n",
      "1.2933815   <Parameter: name=softplus, dtype=float32, shape=[], fn=\"softplus\", numpy=0.99621624>\n",
      "1.2933118   <Parameter: name=softplus, dtype=float32, shape=[], fn=\"softplus\", numpy=0.9955883>\n",
      "1.2932428   <Parameter: name=softplus, dtype=float32, shape=[], fn=\"softplus\", numpy=0.99496144>\n",
      "1.2931747   <Parameter: name=softplus, dtype=float32, shape=[], fn=\"softplus\", numpy=0.9943358>\n",
      "1.2931073   <Parameter: name=softplus, dtype=float32, shape=[], fn=\"softplus\", numpy=0.99371135>\n"
     ]
    },
    {
     "data": {
      "text/html": [
       "<table>\n",
       "<thead>\n",
       "<tr><th>name                   </th><th>class    </th><th>transform       </th><th>prior  </th><th>trainable  </th><th>shape  </th><th>dtype  </th><th style=\"text-align: right;\">   value</th></tr>\n",
       "</thead>\n",
       "<tbody>\n",
       "<tr><td>GPR.kernel.variance    </td><td>Parameter</td><td>Softplus        </td><td>       </td><td>False      </td><td>()     </td><td>float32</td><td style=\"text-align: right;\">1       </td></tr>\n",
       "<tr><td>GPR.kernel.lengthscales</td><td>Parameter</td><td>Softplus        </td><td>       </td><td>True       </td><td>()     </td><td>float32</td><td style=\"text-align: right;\">0.993711</td></tr>\n",
       "<tr><td>GPR.likelihood.variance</td><td>Parameter</td><td>Softplus + Shift</td><td>       </td><td>False      </td><td>()     </td><td>float32</td><td style=\"text-align: right;\">0.1     </td></tr>\n",
       "</tbody>\n",
       "</table>"
      ],
      "text/plain": [
       "<IPython.core.display.HTML object>"
      ]
     },
     "metadata": {},
     "output_type": "display_data"
    }
   ],
   "source": [
    "\n",
    "def my_callback() -> None:\n",
    "    print(f'{(model.training_loss()/X_train.shape[0]).numpy():.7f}', \" \", model.kernel.lengthscales)#gpflow.utilities.print_summary(model))\n",
    "\n",
    "execute_task = gpflow.monitor.ExecuteCallback(my_callback)\n",
    "task_group = gpflow.monitor.MonitorTaskGroup(execute_task)\n",
    "monitor = gpflow.monitor.Monitor(task_group)\n",
    "opt = tf.keras.optimizers.Adam(learning_rate=0.001, beta_1=0.9, beta_2=0.999, epsilon=1e-08)\n",
    "\n",
    "@tf.function\n",
    "def optimization_step(): \n",
    "    with tf.GradientTape() as tape:\n",
    "        loss = model.training_loss()\n",
    "    gradients = tape.gradient(loss, model.trainable_variables)\n",
    "    opt.apply_gradients(zip(gradients, model.trainable_variables))\n",
    "\n",
    "print(\"inital loss \", model.training_loss()/X_train.shape[0], \" \", gpflow.utilities.print_summary(model))\n",
    "\n",
    "for i in range(10): \n",
    "    optimization_step() \n",
    "    \n",
    "    param = model.kernel.parameters[0]\n",
    "    # print(param)\n",
    "    # print(param.unconstrained_variable)  # this is what the optimizer will see\n",
    "    # print(param.transform)  # the above two are related via this\n",
    "    \n",
    "    # if i % 10 == 0:\n",
    "    monitor(i)\n",
    "    \n",
    "gpflow.utilities.print_summary(model)"
   ]
  },
  {
   "cell_type": "code",
   "execution_count": 37,
   "metadata": {},
   "outputs": [
    {
     "name": "stdout",
     "output_type": "stream",
     "text": [
      "<Parameter: name=chain_of_shift_of_softplus, dtype=float32, shape=[], fn=\"chain_of_shift_of_softplus\", numpy=0.1>\n",
      "<tf.Variable 'chain_of_shift_of_softplus:0' shape=() dtype=float32, numpy=-2.252179>\n",
      "tfp.bijectors.Chain(\"chain_of_shift_of_softplus\", batch_shape=[], min_event_ndims=0, bijectors=[Shift, Softplus])\n"
     ]
    }
   ],
   "source": [
    "# model.trainable_parameters\n",
    "param = model.likelihood.parameters[0]\n",
    "print(param)\n",
    "print(param.unconstrained_variable)  # this is what the optimizer will see\n",
    "print(param.transform)  # the above two are related via this"
   ]
  },
  {
   "cell_type": "code",
   "execution_count": 45,
   "metadata": {},
   "outputs": [
    {
     "data": {
      "text/html": [
       "<table>\n",
       "<thead>\n",
       "<tr><th>name                   </th><th>class    </th><th>transform       </th><th>prior  </th><th>trainable  </th><th>shape  </th><th>dtype  </th><th style=\"text-align: right;\">     value</th></tr>\n",
       "</thead>\n",
       "<tbody>\n",
       "<tr><td>GPR.kernel.variance    </td><td>Parameter</td><td>Softplus        </td><td>       </td><td>True       </td><td>()     </td><td>float32</td><td style=\"text-align: right;\">0.795218  </td></tr>\n",
       "<tr><td>GPR.kernel.lengthscales</td><td>Parameter</td><td>Softplus        </td><td>       </td><td>True       </td><td>()     </td><td>float32</td><td style=\"text-align: right;\">1.69561   </td></tr>\n",
       "<tr><td>GPR.likelihood.variance</td><td>Parameter</td><td>Softplus + Shift</td><td>       </td><td>True       </td><td>()     </td><td>float32</td><td style=\"text-align: right;\">0.00195985</td></tr>\n",
       "</tbody>\n",
       "</table>"
      ],
      "text/plain": [
       "<IPython.core.display.HTML object>"
      ]
     },
     "metadata": {},
     "output_type": "display_data"
    },
    {
     "name": "stdout",
     "output_type": "stream",
     "text": [
      "tf.Tensor(3.9486237, shape=(), dtype=float32)   None\n"
     ]
    },
    {
     "data": {
      "text/html": [
       "<table>\n",
       "<thead>\n",
       "<tr><th>name                   </th><th>class    </th><th>transform       </th><th>prior  </th><th>trainable  </th><th>shape  </th><th>dtype  </th><th style=\"text-align: right;\">     value</th></tr>\n",
       "</thead>\n",
       "<tbody>\n",
       "<tr><td>GPR.kernel.variance    </td><td>Parameter</td><td>Softplus        </td><td>       </td><td>True       </td><td>()     </td><td>float32</td><td style=\"text-align: right;\">0.813227  </td></tr>\n",
       "<tr><td>GPR.kernel.lengthscales</td><td>Parameter</td><td>Softplus        </td><td>       </td><td>True       </td><td>()     </td><td>float32</td><td style=\"text-align: right;\">2.31663   </td></tr>\n",
       "<tr><td>GPR.likelihood.variance</td><td>Parameter</td><td>Softplus + Shift</td><td>       </td><td>True       </td><td>()     </td><td>float32</td><td style=\"text-align: right;\">0.00135743</td></tr>\n",
       "</tbody>\n",
       "</table>"
      ],
      "text/plain": [
       "<IPython.core.display.HTML object>"
      ]
     },
     "metadata": {},
     "output_type": "display_data"
    },
    {
     "name": "stdout",
     "output_type": "stream",
     "text": [
      "tf.Tensor(-4.307831, shape=(), dtype=float32)   None\n"
     ]
    },
    {
     "data": {
      "text/html": [
       "<table>\n",
       "<thead>\n",
       "<tr><th>name                   </th><th>class    </th><th>transform       </th><th>prior  </th><th>trainable  </th><th>shape  </th><th>dtype  </th><th style=\"text-align: right;\">      value</th></tr>\n",
       "</thead>\n",
       "<tbody>\n",
       "<tr><td>GPR.kernel.variance    </td><td>Parameter</td><td>Softplus        </td><td>       </td><td>True       </td><td>()     </td><td>float32</td><td style=\"text-align: right;\">1.91122    </td></tr>\n",
       "<tr><td>GPR.kernel.lengthscales</td><td>Parameter</td><td>Softplus        </td><td>       </td><td>True       </td><td>()     </td><td>float32</td><td style=\"text-align: right;\">3.6353     </td></tr>\n",
       "<tr><td>GPR.likelihood.variance</td><td>Parameter</td><td>Softplus + Shift</td><td>       </td><td>True       </td><td>()     </td><td>float32</td><td style=\"text-align: right;\">0.000165338</td></tr>\n",
       "</tbody>\n",
       "</table>"
      ],
      "text/plain": [
       "<IPython.core.display.HTML object>"
      ]
     },
     "metadata": {},
     "output_type": "display_data"
    },
    {
     "name": "stdout",
     "output_type": "stream",
     "text": [
      "tf.Tensor(-8.483078, shape=(), dtype=float32)   None\n"
     ]
    },
    {
     "data": {
      "text/html": [
       "<table>\n",
       "<thead>\n",
       "<tr><th>name                   </th><th>class    </th><th>transform       </th><th>prior  </th><th>trainable  </th><th>shape  </th><th>dtype  </th><th style=\"text-align: right;\">      value</th></tr>\n",
       "</thead>\n",
       "<tbody>\n",
       "<tr><td>GPR.kernel.variance    </td><td>Parameter</td><td>Softplus        </td><td>       </td><td>True       </td><td>()     </td><td>float32</td><td style=\"text-align: right;\">3.2776     </td></tr>\n",
       "<tr><td>GPR.kernel.lengthscales</td><td>Parameter</td><td>Softplus        </td><td>       </td><td>True       </td><td>()     </td><td>float32</td><td style=\"text-align: right;\">4.75679    </td></tr>\n",
       "<tr><td>GPR.likelihood.variance</td><td>Parameter</td><td>Softplus + Shift</td><td>       </td><td>True       </td><td>()     </td><td>float32</td><td style=\"text-align: right;\">2.22467e-05</td></tr>\n",
       "</tbody>\n",
       "</table>"
      ],
      "text/plain": [
       "<IPython.core.display.HTML object>"
      ]
     },
     "metadata": {},
     "output_type": "display_data"
    },
    {
     "name": "stdout",
     "output_type": "stream",
     "text": [
      "tf.Tensor(-9.062103, shape=(), dtype=float32)   None\n"
     ]
    },
    {
     "data": {
      "text/html": [
       "<table>\n",
       "<thead>\n",
       "<tr><th>name                   </th><th>class    </th><th>transform       </th><th>prior  </th><th>trainable  </th><th>shape  </th><th>dtype  </th><th style=\"text-align: right;\">      value</th></tr>\n",
       "</thead>\n",
       "<tbody>\n",
       "<tr><td>GPR.kernel.variance    </td><td>Parameter</td><td>Softplus        </td><td>       </td><td>True       </td><td>()     </td><td>float32</td><td style=\"text-align: right;\">4.31886    </td></tr>\n",
       "<tr><td>GPR.kernel.lengthscales</td><td>Parameter</td><td>Softplus        </td><td>       </td><td>True       </td><td>()     </td><td>float32</td><td style=\"text-align: right;\">5.42424    </td></tr>\n",
       "<tr><td>GPR.likelihood.variance</td><td>Parameter</td><td>Softplus + Shift</td><td>       </td><td>True       </td><td>()     </td><td>float32</td><td style=\"text-align: right;\">4.59669e-06</td></tr>\n",
       "</tbody>\n",
       "</table>"
      ],
      "text/plain": [
       "<IPython.core.display.HTML object>"
      ]
     },
     "metadata": {},
     "output_type": "display_data"
    },
    {
     "name": "stdout",
     "output_type": "stream",
     "text": [
      "tf.Tensor(-9.137817, shape=(), dtype=float32)   None\n"
     ]
    },
    {
     "data": {
      "text/html": [
       "<table>\n",
       "<thead>\n",
       "<tr><th>name                   </th><th>class    </th><th>transform       </th><th>prior  </th><th>trainable  </th><th>shape  </th><th>dtype  </th><th style=\"text-align: right;\">      value</th></tr>\n",
       "</thead>\n",
       "<tbody>\n",
       "<tr><td>GPR.kernel.variance    </td><td>Parameter</td><td>Softplus        </td><td>       </td><td>True       </td><td>()     </td><td>float32</td><td style=\"text-align: right;\">4.6913     </td></tr>\n",
       "<tr><td>GPR.kernel.lengthscales</td><td>Parameter</td><td>Softplus        </td><td>       </td><td>True       </td><td>()     </td><td>float32</td><td style=\"text-align: right;\">5.63786    </td></tr>\n",
       "<tr><td>GPR.likelihood.variance</td><td>Parameter</td><td>Softplus + Shift</td><td>       </td><td>True       </td><td>()     </td><td>float32</td><td style=\"text-align: right;\">2.83263e-06</td></tr>\n",
       "</tbody>\n",
       "</table>"
      ],
      "text/plain": [
       "<IPython.core.display.HTML object>"
      ]
     },
     "metadata": {},
     "output_type": "display_data"
    },
    {
     "name": "stdout",
     "output_type": "stream",
     "text": [
      "tf.Tensor(-9.1419525, shape=(), dtype=float32)   None\n"
     ]
    },
    {
     "data": {
      "text/html": [
       "<table>\n",
       "<thead>\n",
       "<tr><th>name                   </th><th>class    </th><th>transform       </th><th>prior  </th><th>trainable  </th><th>shape  </th><th>dtype  </th><th style=\"text-align: right;\">      value</th></tr>\n",
       "</thead>\n",
       "<tbody>\n",
       "<tr><td>GPR.kernel.variance    </td><td>Parameter</td><td>Softplus        </td><td>       </td><td>True       </td><td>()     </td><td>float32</td><td style=\"text-align: right;\">4.693      </td></tr>\n",
       "<tr><td>GPR.kernel.lengthscales</td><td>Parameter</td><td>Softplus        </td><td>       </td><td>True       </td><td>()     </td><td>float32</td><td style=\"text-align: right;\">5.63877    </td></tr>\n",
       "<tr><td>GPR.likelihood.variance</td><td>Parameter</td><td>Softplus + Shift</td><td>       </td><td>True       </td><td>()     </td><td>float32</td><td style=\"text-align: right;\">2.82107e-06</td></tr>\n",
       "</tbody>\n",
       "</table>"
      ],
      "text/plain": [
       "<IPython.core.display.HTML object>"
      ]
     },
     "metadata": {},
     "output_type": "display_data"
    },
    {
     "name": "stdout",
     "output_type": "stream",
     "text": [
      "tf.Tensor(-9.142197, shape=(), dtype=float32)   None\n"
     ]
    },
    {
     "data": {
      "text/html": [
       "<table>\n",
       "<thead>\n",
       "<tr><th>name                   </th><th>class    </th><th>transform       </th><th>prior  </th><th>trainable  </th><th>shape  </th><th>dtype  </th><th style=\"text-align: right;\">      value</th></tr>\n",
       "</thead>\n",
       "<tbody>\n",
       "<tr><td>GPR.kernel.variance    </td><td>Parameter</td><td>Softplus        </td><td>       </td><td>True       </td><td>()     </td><td>float32</td><td style=\"text-align: right;\">4.693      </td></tr>\n",
       "<tr><td>GPR.kernel.lengthscales</td><td>Parameter</td><td>Softplus        </td><td>       </td><td>True       </td><td>()     </td><td>float32</td><td style=\"text-align: right;\">5.63877    </td></tr>\n",
       "<tr><td>GPR.likelihood.variance</td><td>Parameter</td><td>Softplus + Shift</td><td>       </td><td>True       </td><td>()     </td><td>float32</td><td style=\"text-align: right;\">2.82107e-06</td></tr>\n",
       "</tbody>\n",
       "</table>"
      ],
      "text/plain": [
       "<IPython.core.display.HTML object>"
      ]
     },
     "metadata": {},
     "output_type": "display_data"
    },
    {
     "name": "stdout",
     "output_type": "stream",
     "text": [
      "tf.Tensor(-9.142197, shape=(), dtype=float32)   None\n"
     ]
    },
    {
     "data": {
      "text/html": [
       "<table>\n",
       "<thead>\n",
       "<tr><th>name                   </th><th>class    </th><th>transform       </th><th>prior  </th><th>trainable  </th><th>shape  </th><th>dtype  </th><th style=\"text-align: right;\">      value</th></tr>\n",
       "</thead>\n",
       "<tbody>\n",
       "<tr><td>GPR.kernel.variance    </td><td>Parameter</td><td>Softplus        </td><td>       </td><td>True       </td><td>()     </td><td>float32</td><td style=\"text-align: right;\">4.693      </td></tr>\n",
       "<tr><td>GPR.kernel.lengthscales</td><td>Parameter</td><td>Softplus        </td><td>       </td><td>True       </td><td>()     </td><td>float32</td><td style=\"text-align: right;\">5.63877    </td></tr>\n",
       "<tr><td>GPR.likelihood.variance</td><td>Parameter</td><td>Softplus + Shift</td><td>       </td><td>True       </td><td>()     </td><td>float32</td><td style=\"text-align: right;\">2.82107e-06</td></tr>\n",
       "</tbody>\n",
       "</table>"
      ],
      "text/plain": [
       "<IPython.core.display.HTML object>"
      ]
     },
     "metadata": {},
     "output_type": "display_data"
    },
    {
     "name": "stdout",
     "output_type": "stream",
     "text": [
      "tf.Tensor(-9.142197, shape=(), dtype=float32)   None\n"
     ]
    },
    {
     "data": {
      "text/html": [
       "<table>\n",
       "<thead>\n",
       "<tr><th>name                   </th><th>class    </th><th>transform       </th><th>prior  </th><th>trainable  </th><th>shape  </th><th>dtype  </th><th style=\"text-align: right;\">      value</th></tr>\n",
       "</thead>\n",
       "<tbody>\n",
       "<tr><td>GPR.kernel.variance    </td><td>Parameter</td><td>Softplus        </td><td>       </td><td>True       </td><td>()     </td><td>float32</td><td style=\"text-align: right;\">4.693      </td></tr>\n",
       "<tr><td>GPR.kernel.lengthscales</td><td>Parameter</td><td>Softplus        </td><td>       </td><td>True       </td><td>()     </td><td>float32</td><td style=\"text-align: right;\">5.63877    </td></tr>\n",
       "<tr><td>GPR.likelihood.variance</td><td>Parameter</td><td>Softplus + Shift</td><td>       </td><td>True       </td><td>()     </td><td>float32</td><td style=\"text-align: right;\">2.82107e-06</td></tr>\n",
       "</tbody>\n",
       "</table>"
      ],
      "text/plain": [
       "<IPython.core.display.HTML object>"
      ]
     },
     "metadata": {},
     "output_type": "display_data"
    },
    {
     "name": "stdout",
     "output_type": "stream",
     "text": [
      "tf.Tensor(-9.142197, shape=(), dtype=float32)   None\n"
     ]
    },
    {
     "data": {
      "text/html": [
       "<table>\n",
       "<thead>\n",
       "<tr><th>name                   </th><th>class    </th><th>transform       </th><th>prior  </th><th>trainable  </th><th>shape  </th><th>dtype  </th><th style=\"text-align: right;\">      value</th></tr>\n",
       "</thead>\n",
       "<tbody>\n",
       "<tr><td>GPR.kernel.variance    </td><td>Parameter</td><td>Softplus        </td><td>       </td><td>True       </td><td>()     </td><td>float32</td><td style=\"text-align: right;\">4.693      </td></tr>\n",
       "<tr><td>GPR.kernel.lengthscales</td><td>Parameter</td><td>Softplus        </td><td>       </td><td>True       </td><td>()     </td><td>float32</td><td style=\"text-align: right;\">5.63877    </td></tr>\n",
       "<tr><td>GPR.likelihood.variance</td><td>Parameter</td><td>Softplus + Shift</td><td>       </td><td>True       </td><td>()     </td><td>float32</td><td style=\"text-align: right;\">2.82107e-06</td></tr>\n",
       "</tbody>\n",
       "</table>"
      ],
      "text/plain": [
       "<IPython.core.display.HTML object>"
      ]
     },
     "metadata": {},
     "output_type": "display_data"
    },
    {
     "name": "stdout",
     "output_type": "stream",
     "text": [
      "tf.Tensor(-9.142197, shape=(), dtype=float32)   None\n"
     ]
    },
    {
     "data": {
      "text/html": [
       "<table>\n",
       "<thead>\n",
       "<tr><th>name                   </th><th>class    </th><th>transform       </th><th>prior  </th><th>trainable  </th><th>shape  </th><th>dtype  </th><th style=\"text-align: right;\">      value</th></tr>\n",
       "</thead>\n",
       "<tbody>\n",
       "<tr><td>GPR.kernel.variance    </td><td>Parameter</td><td>Softplus        </td><td>       </td><td>True       </td><td>()     </td><td>float32</td><td style=\"text-align: right;\">4.693      </td></tr>\n",
       "<tr><td>GPR.kernel.lengthscales</td><td>Parameter</td><td>Softplus        </td><td>       </td><td>True       </td><td>()     </td><td>float32</td><td style=\"text-align: right;\">5.63877    </td></tr>\n",
       "<tr><td>GPR.likelihood.variance</td><td>Parameter</td><td>Softplus + Shift</td><td>       </td><td>True       </td><td>()     </td><td>float32</td><td style=\"text-align: right;\">2.82107e-06</td></tr>\n",
       "</tbody>\n",
       "</table>"
      ],
      "text/plain": [
       "<IPython.core.display.HTML object>"
      ]
     },
     "metadata": {},
     "output_type": "display_data"
    },
    {
     "name": "stdout",
     "output_type": "stream",
     "text": [
      "tf.Tensor(-9.142197, shape=(), dtype=float32)   None\n"
     ]
    },
    {
     "data": {
      "text/html": [
       "<table>\n",
       "<thead>\n",
       "<tr><th>name                   </th><th>class    </th><th>transform       </th><th>prior  </th><th>trainable  </th><th>shape  </th><th>dtype  </th><th style=\"text-align: right;\">      value</th></tr>\n",
       "</thead>\n",
       "<tbody>\n",
       "<tr><td>GPR.kernel.variance    </td><td>Parameter</td><td>Softplus        </td><td>       </td><td>True       </td><td>()     </td><td>float32</td><td style=\"text-align: right;\">4.693      </td></tr>\n",
       "<tr><td>GPR.kernel.lengthscales</td><td>Parameter</td><td>Softplus        </td><td>       </td><td>True       </td><td>()     </td><td>float32</td><td style=\"text-align: right;\">5.63877    </td></tr>\n",
       "<tr><td>GPR.likelihood.variance</td><td>Parameter</td><td>Softplus + Shift</td><td>       </td><td>True       </td><td>()     </td><td>float32</td><td style=\"text-align: right;\">2.82107e-06</td></tr>\n",
       "</tbody>\n",
       "</table>"
      ],
      "text/plain": [
       "<IPython.core.display.HTML object>"
      ]
     },
     "metadata": {},
     "output_type": "display_data"
    },
    {
     "name": "stdout",
     "output_type": "stream",
     "text": [
      "tf.Tensor(-9.142197, shape=(), dtype=float32)   None\n"
     ]
    },
    {
     "data": {
      "text/html": [
       "<table>\n",
       "<thead>\n",
       "<tr><th>name                   </th><th>class    </th><th>transform       </th><th>prior  </th><th>trainable  </th><th>shape  </th><th>dtype  </th><th style=\"text-align: right;\">      value</th></tr>\n",
       "</thead>\n",
       "<tbody>\n",
       "<tr><td>GPR.kernel.variance    </td><td>Parameter</td><td>Softplus        </td><td>       </td><td>True       </td><td>()     </td><td>float32</td><td style=\"text-align: right;\">4.693      </td></tr>\n",
       "<tr><td>GPR.kernel.lengthscales</td><td>Parameter</td><td>Softplus        </td><td>       </td><td>True       </td><td>()     </td><td>float32</td><td style=\"text-align: right;\">5.63877    </td></tr>\n",
       "<tr><td>GPR.likelihood.variance</td><td>Parameter</td><td>Softplus + Shift</td><td>       </td><td>True       </td><td>()     </td><td>float32</td><td style=\"text-align: right;\">2.82107e-06</td></tr>\n",
       "</tbody>\n",
       "</table>"
      ],
      "text/plain": [
       "<IPython.core.display.HTML object>"
      ]
     },
     "metadata": {},
     "output_type": "display_data"
    },
    {
     "name": "stdout",
     "output_type": "stream",
     "text": [
      "tf.Tensor(-9.142197, shape=(), dtype=float32)   None\n"
     ]
    },
    {
     "data": {
      "text/html": [
       "<table>\n",
       "<thead>\n",
       "<tr><th>name                   </th><th>class    </th><th>transform       </th><th>prior  </th><th>trainable  </th><th>shape  </th><th>dtype  </th><th style=\"text-align: right;\">      value</th></tr>\n",
       "</thead>\n",
       "<tbody>\n",
       "<tr><td>GPR.kernel.variance    </td><td>Parameter</td><td>Softplus        </td><td>       </td><td>True       </td><td>()     </td><td>float32</td><td style=\"text-align: right;\">4.693      </td></tr>\n",
       "<tr><td>GPR.kernel.lengthscales</td><td>Parameter</td><td>Softplus        </td><td>       </td><td>True       </td><td>()     </td><td>float32</td><td style=\"text-align: right;\">5.63877    </td></tr>\n",
       "<tr><td>GPR.likelihood.variance</td><td>Parameter</td><td>Softplus + Shift</td><td>       </td><td>True       </td><td>()     </td><td>float32</td><td style=\"text-align: right;\">2.82107e-06</td></tr>\n",
       "</tbody>\n",
       "</table>"
      ],
      "text/plain": [
       "<IPython.core.display.HTML object>"
      ]
     },
     "metadata": {},
     "output_type": "display_data"
    },
    {
     "name": "stdout",
     "output_type": "stream",
     "text": [
      "tf.Tensor(-9.142197, shape=(), dtype=float32)   None\n"
     ]
    },
    {
     "data": {
      "text/html": [
       "<table>\n",
       "<thead>\n",
       "<tr><th>name                   </th><th>class    </th><th>transform       </th><th>prior  </th><th>trainable  </th><th>shape  </th><th>dtype  </th><th style=\"text-align: right;\">      value</th></tr>\n",
       "</thead>\n",
       "<tbody>\n",
       "<tr><td>GPR.kernel.variance    </td><td>Parameter</td><td>Softplus        </td><td>       </td><td>True       </td><td>()     </td><td>float32</td><td style=\"text-align: right;\">4.693      </td></tr>\n",
       "<tr><td>GPR.kernel.lengthscales</td><td>Parameter</td><td>Softplus        </td><td>       </td><td>True       </td><td>()     </td><td>float32</td><td style=\"text-align: right;\">5.63877    </td></tr>\n",
       "<tr><td>GPR.likelihood.variance</td><td>Parameter</td><td>Softplus + Shift</td><td>       </td><td>True       </td><td>()     </td><td>float32</td><td style=\"text-align: right;\">2.82107e-06</td></tr>\n",
       "</tbody>\n",
       "</table>"
      ],
      "text/plain": [
       "<IPython.core.display.HTML object>"
      ]
     },
     "metadata": {},
     "output_type": "display_data"
    },
    {
     "name": "stdout",
     "output_type": "stream",
     "text": [
      "tf.Tensor(-9.142197, shape=(), dtype=float32)   None\n"
     ]
    },
    {
     "data": {
      "text/html": [
       "<table>\n",
       "<thead>\n",
       "<tr><th>name                   </th><th>class    </th><th>transform       </th><th>prior  </th><th>trainable  </th><th>shape  </th><th>dtype  </th><th style=\"text-align: right;\">      value</th></tr>\n",
       "</thead>\n",
       "<tbody>\n",
       "<tr><td>GPR.kernel.variance    </td><td>Parameter</td><td>Softplus        </td><td>       </td><td>True       </td><td>()     </td><td>float32</td><td style=\"text-align: right;\">4.693      </td></tr>\n",
       "<tr><td>GPR.kernel.lengthscales</td><td>Parameter</td><td>Softplus        </td><td>       </td><td>True       </td><td>()     </td><td>float32</td><td style=\"text-align: right;\">5.63877    </td></tr>\n",
       "<tr><td>GPR.likelihood.variance</td><td>Parameter</td><td>Softplus + Shift</td><td>       </td><td>True       </td><td>()     </td><td>float32</td><td style=\"text-align: right;\">2.82107e-06</td></tr>\n",
       "</tbody>\n",
       "</table>"
      ],
      "text/plain": [
       "<IPython.core.display.HTML object>"
      ]
     },
     "metadata": {},
     "output_type": "display_data"
    },
    {
     "name": "stdout",
     "output_type": "stream",
     "text": [
      "tf.Tensor(-9.142197, shape=(), dtype=float32)   None\n"
     ]
    },
    {
     "data": {
      "text/html": [
       "<table>\n",
       "<thead>\n",
       "<tr><th>name                   </th><th>class    </th><th>transform       </th><th>prior  </th><th>trainable  </th><th>shape  </th><th>dtype  </th><th style=\"text-align: right;\">      value</th></tr>\n",
       "</thead>\n",
       "<tbody>\n",
       "<tr><td>GPR.kernel.variance    </td><td>Parameter</td><td>Softplus        </td><td>       </td><td>True       </td><td>()     </td><td>float32</td><td style=\"text-align: right;\">4.693      </td></tr>\n",
       "<tr><td>GPR.kernel.lengthscales</td><td>Parameter</td><td>Softplus        </td><td>       </td><td>True       </td><td>()     </td><td>float32</td><td style=\"text-align: right;\">5.63877    </td></tr>\n",
       "<tr><td>GPR.likelihood.variance</td><td>Parameter</td><td>Softplus + Shift</td><td>       </td><td>True       </td><td>()     </td><td>float32</td><td style=\"text-align: right;\">2.82107e-06</td></tr>\n",
       "</tbody>\n",
       "</table>"
      ],
      "text/plain": [
       "<IPython.core.display.HTML object>"
      ]
     },
     "metadata": {},
     "output_type": "display_data"
    },
    {
     "name": "stdout",
     "output_type": "stream",
     "text": [
      "tf.Tensor(-9.142197, shape=(), dtype=float32)   None\n"
     ]
    },
    {
     "data": {
      "text/html": [
       "<table>\n",
       "<thead>\n",
       "<tr><th>name                   </th><th>class    </th><th>transform       </th><th>prior  </th><th>trainable  </th><th>shape  </th><th>dtype  </th><th style=\"text-align: right;\">      value</th></tr>\n",
       "</thead>\n",
       "<tbody>\n",
       "<tr><td>GPR.kernel.variance    </td><td>Parameter</td><td>Softplus        </td><td>       </td><td>True       </td><td>()     </td><td>float32</td><td style=\"text-align: right;\">4.693      </td></tr>\n",
       "<tr><td>GPR.kernel.lengthscales</td><td>Parameter</td><td>Softplus        </td><td>       </td><td>True       </td><td>()     </td><td>float32</td><td style=\"text-align: right;\">5.63877    </td></tr>\n",
       "<tr><td>GPR.likelihood.variance</td><td>Parameter</td><td>Softplus + Shift</td><td>       </td><td>True       </td><td>()     </td><td>float32</td><td style=\"text-align: right;\">2.82107e-06</td></tr>\n",
       "</tbody>\n",
       "</table>"
      ],
      "text/plain": [
       "<IPython.core.display.HTML object>"
      ]
     },
     "metadata": {},
     "output_type": "display_data"
    },
    {
     "name": "stdout",
     "output_type": "stream",
     "text": [
      "tf.Tensor(-9.142197, shape=(), dtype=float32)   None\n"
     ]
    }
   ],
   "source": [
    "def my_callback() -> None:\n",
    "    print(model.training_loss(), \" \", gpflow.utilities.print_summary(model))\n",
    "\n",
    "execute_task = gpflow.monitor.ExecuteCallback(my_callback)\n",
    "task_group = gpflow.monitor.MonitorTaskGroup(execute_task, period=3)\n",
    "monitor = gpflow.monitor.Monitor(task_group)\n",
    "\n",
    "opt = gpflow.optimizers.Scipy()\n",
    "\n",
    "for i in range(10): \n",
    "    opt.minimize(model.training_loss, model.trainable_variables, step_callback=monitor)\n",
    "    monitor(i)"
   ]
  }
 ],
 "metadata": {
  "kernelspec": {
   "display_name": "Python 3",
   "language": "python",
   "name": "python3"
  },
  "language_info": {
   "codemirror_mode": {
    "name": "ipython",
    "version": 3
   },
   "file_extension": ".py",
   "mimetype": "text/x-python",
   "name": "python",
   "nbconvert_exporter": "python",
   "pygments_lexer": "ipython3",
   "version": "3.10.12"
  }
 },
 "nbformat": 4,
 "nbformat_minor": 2
}
