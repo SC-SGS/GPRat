{
 "cells": [
  {
   "cell_type": "markdown",
   "metadata": {},
   "source": [
    "# GPyTorch Regression Tutorial\n",
    "\n",
    "## Introduction\n",
    "\n",
    "In this notebook, we demonstrate many of the design features of GPyTorch using the simplest example, training an RBF kernel Gaussian process on a simple function. We'll be modeling the function\n",
    "\n",
    "$$\n",
    "\\begin{align}\n",
    "y &= \\sin(2\\pi x) + \\epsilon \\\\\n",
    "  \\epsilon &\\sim \\mathcal{N}(0, 0.04) \n",
    "\\end{align}\n",
    "$$\n",
    "\n",
    "with 100 training examples, and testing on 51 test examples.\n",
    "\n",
    "**Note:** this notebook is not necessarily intended to teach the mathematical background of Gaussian processes, but rather how to train a simple one and make predictions in GPyTorch. For a mathematical treatment, Chapter 2 of Gaussian Processes for Machine Learning provides a very thorough introduction to GP regression (this entire text is highly recommended): http://www.gaussianprocess.org/gpml/chapters/RW2.pdf"
   ]
  },
  {
   "cell_type": "code",
   "execution_count": 1,
   "metadata": {},
   "outputs": [],
   "source": [
    "import math\n",
    "import torch\n",
    "import numpy as np\n",
    "import gpytorch\n",
    "import time\n",
    "from matplotlib import pyplot as plt\n",
    "\n",
    "%matplotlib inline\n",
    "%load_ext autoreload\n",
    "%autoreload 2\n",
    "\n",
    "torch.manual_seed(7)\n",
    "np.random.seed(7)"
   ]
  },
  {
   "cell_type": "markdown",
   "metadata": {},
   "source": [
    "### Set up training data\n",
    "\n",
    "In the next cell, we set up the training data for this example. We'll be using 100 regularly spaced points on [0,1] which we evaluate the function on and add Gaussian noise to get the training labels."
   ]
  },
  {
   "cell_type": "code",
   "execution_count": 54,
   "metadata": {},
   "outputs": [],
   "source": [
    "def generate_regressor(x_original, n_regressors):\n",
    "    \"\"\"Pad X with zeros from left for #regressors-1 for each data point\n",
    "    roll over X where window size equals #regressors\n",
    "\n",
    "    Args:\n",
    "        x_original (_type_): _description_\n",
    "        n_regressors (_type_): _description_\n",
    "\n",
    "    Returns:\n",
    "        _type_: _description_\n",
    "    \"\"\"\n",
    "    X = []\n",
    "    x_padded = np.pad(x_original, pad_width=(n_regressors-1, 0), mode=\"constant\", constant_values=(0))\n",
    "    for _ in range(len(x_original)):\n",
    "        X.append(x_padded[:n_regressors])\n",
    "        x_padded = np.roll(x_padded, -1)\n",
    "\n",
    "    X = np.array(X)\n",
    "\n",
    "    return X\n",
    "\n",
    "\n",
    "def load_data(train_in_path, train_out_path, test_in_path, test_out_path, size_train: int, size_test: int, n_regressors: int):\n",
    "    \"\"\"_summary_\n",
    "\n",
    "    Args:\n",
    "        train_in_path (_type_): _description_\n",
    "        train_out_path (_type_): _description_\n",
    "        test_in_path (_type_): _description_\n",
    "        test_out_path (_type_): _description_\n",
    "        size (int): _description_\n",
    "        n_regressors (int): _description_\n",
    "\n",
    "    Returns:\n",
    "        _type_: _description_\n",
    "    \"\"\"\n",
    "\n",
    "    x_train_in = np.loadtxt(train_in_path, dtype=float)[:size_train]\n",
    "    x_test_in = np.loadtxt(test_in_path, dtype=float)[:size_test]\n",
    "\n",
    "    X_train = generate_regressor(x_train_in, n_regressors)\n",
    "    X_test = generate_regressor(x_test_in, n_regressors)\n",
    "\n",
    "    Y_train = np.loadtxt(train_out_path, dtype=float)[:size_train]\n",
    "    Y_test = np.loadtxt(test_out_path, dtype=float)[:size_test]\n",
    "\n",
    "    return X_train, Y_train, X_test, Y_test\n",
    "\n",
    "\n",
    "# Training data is 100 points in [0,1] inclusive regularly spaced\n",
    "# train_x = torch.linspace(0, 1, 400000000)\n",
    "# True function is sin(2*pi*x) with Gaussian noise\n",
    "# train_y = torch.sin(train_x * (2 * math.pi)) + torch.randn(train_x.size()) * math.sqrt(0.04)\n",
    "# size=100\n",
    "# train_in_file = \"src/data/training/training_input.txt\"\n",
    "# train_out_file = \"src/data/training/training_output.txt\"\n",
    "# x = np.loadtxt(train_in_file, dtype=float)[:size]\n",
    "# train_y = torch.FloatTensor(np.loadtxt(train_out_file, dtype=float)[:size, None])\n",
    "\n",
    "# # pad X with zeros from left for #regressors-1\n",
    "# # for each data point roll over X where window size equals #regressors\n",
    "# n_regressors = 1\n",
    "# train_x = []\n",
    "# a = np.pad(x, pad_width=(n_regressors, 0), mode=\"constant\", constant_values=(0))\n",
    "# for i in range(len(x)):\n",
    "#     a = np.roll(a, -1)\n",
    "#     train_x.append(a[:n_regressors])\n",
    "\n",
    "# train_x = torch.FloatTensor(np.array(train_x))\n",
    "\n",
    "train_in_file = \"src/data/training/training_input.txt\"\n",
    "train_out_file = \"src/data/training/training_output.txt\"\n",
    "test_in_file = \"src/data/test/test_input.txt\"\n",
    "test_out_file = \"src/data/test/test_output.txt\"\n",
    "\n",
    "size_train = 100\n",
    "size_test = 1000\n",
    "n_regressors = 5\n",
    "\n",
    "X_train, Y_train, X_test, Y_test = load_data(\n",
    "    train_in_file,\n",
    "    train_out_file,\n",
    "    test_in_file,\n",
    "    test_out_file,\n",
    "    size_train,\n",
    "    size_test,\n",
    "    n_regressors,\n",
    ")\n",
    "\n",
    "X_train = torch.from_numpy(X_train)[:900]\n",
    "Y_train = torch.from_numpy(Y_train)[:900]\n",
    "X_test = torch.from_numpy(X_test)\n",
    "Y_test = torch.from_numpy(Y_test)"
   ]
  },
  {
   "cell_type": "code",
   "execution_count": 55,
   "metadata": {},
   "outputs": [
    {
     "name": "stdout",
     "output_type": "stream",
     "text": [
      "torch.float64\n"
     ]
    }
   ],
   "source": [
    "print(X_train.dtype)"
   ]
  },
  {
   "cell_type": "markdown",
   "metadata": {},
   "source": [
    "## Setting up the model\n",
    "\n",
    "The next cell demonstrates the most critical features of a user-defined Gaussian process model in GPyTorch. Building a GP model in GPyTorch is different in a number of ways.\n",
    "\n",
    "First in contrast to many existing GP packages, we do not provide full GP models for the user. Rather, we provide *the tools necessary to quickly construct one*. This is because we believe, analogous to building a neural network in standard PyTorch, it is important to have the flexibility to include whatever components are necessary. As can be seen in more complicated examples, this allows the user great flexibility in designing custom models.\n",
    "\n",
    "For most GP regression models, you will need to construct the following GPyTorch objects:\n",
    "\n",
    "1. A **GP Model** (`gpytorch.models.ExactGP`) -  This handles most of the inference.\n",
    "1. A **Likelihood** (`gpytorch.likelihoods.GaussianLikelihood`) - This is the most common likelihood used for GP regression.\n",
    "1. A **Mean** - This defines the prior mean of the GP.(If you don't know which mean to use, a `gpytorch.means.ConstantMean()` is a good place to start.)\n",
    "1. A **Kernel** - This defines the prior covariance of the GP.(If you don't know which kernel to use, a `gpytorch.kernels.ScaleKernel(gpytorch.kernels.RBFKernel())` is a good place to start).\n",
    "1. A **MultivariateNormal** Distribution (`gpytorch.distributions.MultivariateNormal`) - This is the object used to represent multivariate normal distributions.\n",
    "  \n",
    "  \n",
    "### The GP Model\n",
    "  \n",
    "The components of a user built (Exact, i.e. non-variational) GP model in GPyTorch are, broadly speaking:\n",
    "\n",
    "1. An `__init__` method that takes the training data and a likelihood, and constructs whatever objects are necessary for the model's `forward` method. This will most commonly include things like a mean module and a kernel module.\n",
    "\n",
    "2. A `forward` method that takes in some $n \\times d$ data `x` and returns a `MultivariateNormal` with the *prior* mean and covariance evaluated at `x`. In other words, we return the vector $\\mu(x)$ and the $n \\times n$ matrix $K_{xx}$ representing the prior mean and covariance matrix of the GP. \n",
    "\n",
    "This specification leaves a large amount of flexibility when defining a model. For example, to compose two kernels via addition, you can either add the kernel modules directly:\n",
    "\n",
    "```python\n",
    "self.covar_module = ScaleKernel(RBFKernel() + LinearKernel())\n",
    "```\n",
    "\n",
    "Or you can add the outputs of the kernel in the forward method:\n",
    "\n",
    "```python\n",
    "covar_x = self.rbf_kernel_module(x) + self.white_noise_module(x)\n",
    "```\n",
    "\n",
    "\n",
    "### The likelihood\n",
    "\n",
    "The simplest likelihood for regression is the `gpytorch.likelihoods.GaussianLikelihood`. This assumes a homoskedastic noise model (i.e. all inputs have the same observational noise).\n",
    "\n",
    "There are other options for exact GP regression, such as the [FixedNoiseGaussianLikelihood](http://docs.gpytorch.ai/likelihoods.html#fixednoisegaussianlikelihood), which assigns a different observed noise value to different training inputs."
   ]
  },
  {
   "cell_type": "code",
   "execution_count": 56,
   "metadata": {},
   "outputs": [],
   "source": [
    "# We will use the simplest form of GP model, exact inference\n",
    "class ExactGPModel(gpytorch.models.ExactGP):\n",
    "    def __init__(self, train_x, train_y, likelihood):\n",
    "        super(ExactGPModel, self).__init__(train_x, train_y, likelihood)\n",
    "        self.mean_module = gpytorch.means.ConstantMean()\n",
    "        self.covar_module = gpytorch.kernels.ScaleKernel(gpytorch.kernels.RBFKernel())\n",
    "        \n",
    "        self.covar_module.base_kernel.lengthscale = 1.0\n",
    "        self.covar_module.outputscale = 1.0\n",
    "    \n",
    "    def forward(self, x):\n",
    "        mean_x = self.mean_module(x)\n",
    "        covar_x = self.covar_module(x)\n",
    "        return gpytorch.distributions.MultivariateNormal(mean_x, covar_x)\n",
    "\n",
    "# initialize likelihood and model\n",
    "# print(torch.get_num_threads())\n",
    "# print(torch.get_num_interop_threads() )\n",
    "# torch.set_num_threads(2)\n",
    "likelihood = gpytorch.likelihoods.GaussianLikelihood()#noise_prior=gpytorch.priors.NormalPrior(0, 1), lambda module: module.noise.sqrt()) # GaussianLikelihood() torch.ones(X_train.shape)\n",
    "model = ExactGPModel(X_train, Y_train, likelihood)\n",
    "likelihood.noise = 0.1\n",
    "# model.covar_module.base_kernel.raw_lengthscale = torch.nn.Parameter(torch.tensor([1.0]))\n",
    "# model.covar_module.outputscale = 1.\n",
    "# model.likelihood.noise_covar.raw_noise = torch.nn.Parameter(torch.tensor([0.1]))\n",
    "#model.likelihood.noise_covar.register_prior(\"noise_std_prior\", gpytorch.priors.NormalPrior(0, 1), lambda module: module.noise.sqrt())"
   ]
  },
  {
   "cell_type": "code",
   "execution_count": 57,
   "metadata": {},
   "outputs": [
    {
     "name": "stdout",
     "output_type": "stream",
     "text": [
      "Actual noise value: tensor([0.1000], grad_fn=<AddBackward0>)\n",
      "Noise constraint: GreaterThan(1.000E-04)\n"
     ]
    }
   ],
   "source": [
    "print(f'Actual noise value: {likelihood.noise}')\n",
    "print(f'Noise constraint: {likelihood.noise_covar.raw_noise_constraint}')"
   ]
  },
  {
   "cell_type": "code",
   "execution_count": 58,
   "metadata": {},
   "outputs": [
    {
     "name": "stdout",
     "output_type": "stream",
     "text": [
      "Parameter name: likelihood.noise_covar.raw_noise           value = -2.2532198429107666\n",
      "Parameter name: mean_module.raw_constant                   value = 0.0\n",
      "Parameter name: covar_module.raw_outputscale               value = 0.5413248538970947\n",
      "Parameter name: covar_module.base_kernel.raw_lengthscale   value = 0.5413248538970947\n"
     ]
    }
   ],
   "source": [
    "for param_name, param in model.named_parameters():\n",
    "    print(f'Parameter name: {param_name:42} value = {param.item()}')"
   ]
  },
  {
   "cell_type": "code",
   "execution_count": 60,
   "metadata": {},
   "outputs": [
    {
     "name": "stdout",
     "output_type": "stream",
     "text": [
      "tensor([-0.0100, -0.0100, -0.0100, -0.0100, -0.0100], dtype=torch.float64)\n"
     ]
    }
   ],
   "source": [
    "# Get into evaluation (predictive posterior) mode\n",
    "model.eval()\n",
    "likelihood.eval()\n",
    "\n",
    "# Make predictions by feeding model through likelihood\n",
    "with torch.no_grad(), gpytorch.settings.fast_pred_var():\n",
    "    # observed_pred = likelihood(model(X_test))\n",
    "    f_pred = model(X_test)\n",
    "    \n",
    "    # y_pred = likelihood(model(X_test), noise=(torch.ones(X_test.shape) * 0.1))\n",
    "    # y_mean = y_pred.mean\n",
    "print(f_pred.mean[-5:])"
   ]
  },
  {
   "cell_type": "code",
   "execution_count": 53,
   "metadata": {},
   "outputs": [
    {
     "name": "stdout",
     "output_type": "stream",
     "text": [
      "[[-1.79724 ]\n",
      " [-1.57972 ]\n",
      " [-1.10917 ]\n",
      " [-0.457993]\n",
      " [ 0.874913]]\n"
     ]
    }
   ],
   "source": [
    "hpx_pred_file = \"/home/maksim/simtech/thesis/GPPPy_hpx/build/predictions.txt\"\n",
    "hpx_pred = np.loadtxt(hpx_pred_file, dtype=float)[:size_test, None]\n",
    "print(hpx_pred[:5])"
   ]
  },
  {
   "cell_type": "code",
   "execution_count": 18,
   "metadata": {},
   "outputs": [],
   "source": [
    "# runtimes = []\n",
    "# threads = [1] + [t for t in range(2, 6, 2)]\n",
    "# for t in threads:\n",
    "#     model.train()\n",
    "#     likelihood.train()\n",
    "#     torch.set_num_threads(t)\n",
    "#     print(torch.get_num_threads())\n",
    "#     start = time.time()\n",
    "#     model(train_x)\n",
    "#     print(time.time() - start)\n",
    "# ... plotting (threads, runtimes) ...\n",
    "\n"
   ]
  },
  {
   "cell_type": "markdown",
   "metadata": {},
   "source": [
    "### Model modes\n",
    "\n",
    "Like most PyTorch modules, the `ExactGP` has a `.train()` and `.eval()` mode.\n",
    "- `.train()` mode is for optimizing model hyperameters.\n",
    "- `.eval()` mode is for computing predictions through the model posterior."
   ]
  },
  {
   "cell_type": "markdown",
   "metadata": {},
   "source": [
    "## Training the model\n",
    "\n",
    "In the next cell, we handle using Type-II MLE to train the hyperparameters of the Gaussian process.\n",
    "\n",
    "The most obvious difference here compared to many other GP implementations is that, as in standard PyTorch, the core training loop is written by the user. In GPyTorch, we make use of the standard PyTorch optimizers as from `torch.optim`, and all trainable parameters of the model should be of type `torch.nn.Parameter`. Because GP models directly extend `torch.nn.Module`, calls to methods like `model.parameters()` or `model.named_parameters()` function as you might expect coming from PyTorch.\n",
    "\n",
    "In most cases, the boilerplate code below will work well. It has the same basic components as the standard PyTorch training loop:\n",
    "\n",
    "1. Zero all parameter gradients\n",
    "2. Call the model and compute the loss\n",
    "3. Call backward on the loss to fill in gradients\n",
    "4. Take a step on the optimizer\n",
    "\n",
    "However, defining custom training loops allows for greater flexibility. For example, it is easy to save the parameters at each step of training, or use different learning rates for different parameters (which may be useful in deep kernel learning for example)."
   ]
  },
  {
   "cell_type": "markdown",
   "metadata": {},
   "source": [
    "1.32 (4, 8) 50 iter\n",
    "\n",
    "34.6 (8, 8) 20 iter 10.000\n",
    "34.1 (8, 8) 20 iter\n",
    "34.8 (8, 8) 20 iter\n",
    "35.9 (4, 4) 20 iter\n",
    "36.6 (4, 8) 20 iter\n",
    "36.8 (4, 8) 20 iter\n",
    "52.5 (2, 8) 20 iter\n",
    "50.8 (2, 8) 20 iter\n",
    "50.6 (2, 8) 20 iter\n",
    "50.1 (2, 8) 20 iter\n",
    "1 min 18.3 (1, 8) 20 iter\n",
    "1 min 18.6 (1, 8) 20 iter\n",
    "\n",
    "1 min 50.5 (2, 8) 10 iter 20.000\n",
    "1 min 49.1 (2, 8)\n",
    "1 min 21.6 (4, 8) \n",
    "1 min 18.9 (4, 8)\n",
    "1 min 20.5 (4 ,8)\n",
    "1 min 20.8 (4, 8)\n",
    "1 min 18.0 (6, 8)\n",
    "1 min 17.5 (6, 8)\n",
    "1 min 15.7 (8, 8)\n",
    "1 min 15.6 (8, 8)\n",
    "\n",
    "2.1523"
   ]
  },
  {
   "cell_type": "code",
   "execution_count": 164,
   "metadata": {
    "scrolled": false
   },
   "outputs": [
    {
     "name": "stdout",
     "output_type": "stream",
     "text": [
      "Iter 1/10 - Loss: 2.655   lengthscale: 1.313   noise: 0.744\n",
      "Iter 2/10 - Loss: 2.560   lengthscale: 1.313   noise: 0.798\n",
      "Iter 3/10 - Loss: 2.476   lengthscale: 1.313   noise: 0.854\n",
      "Iter 4/10 - Loss: 2.403   lengthscale: 1.313   noise: 0.912\n",
      "Iter 5/10 - Loss: 2.338   lengthscale: 1.313   noise: 0.972\n",
      "Iter 6/10 - Loss: 2.283   lengthscale: 1.313   noise: 1.032\n",
      "Iter 7/10 - Loss: 2.235   lengthscale: 1.313   noise: 1.094\n",
      "Iter 8/10 - Loss: 2.194   lengthscale: 1.313   noise: 1.157\n",
      "Iter 9/10 - Loss: 2.158   lengthscale: 1.313   noise: 1.219\n",
      "Iter 10/10 - Loss: 2.127   lengthscale: 1.313   noise: 1.282\n"
     ]
    }
   ],
   "source": [
    "# this is for running the notebook in our testing framework\n",
    "import os\n",
    "smoke_test = ('CI' in os.environ)\n",
    "training_iter = 2 if smoke_test else 10 #50\n",
    "\n",
    "\n",
    "# Find optimal model hyperparameters\n",
    "model.train()\n",
    "likelihood.train()\n",
    "\n",
    "# Use the adam optimizer\n",
    "optimizer = torch.optim.Adam(model.parameters(), lr=0.1)  # Includes GaussianLikelihood parameters\n",
    "\n",
    "# \"Loss\" for GPs - the marginal log likelihood\n",
    "mll = gpytorch.mlls.ExactMarginalLogLikelihood(likelihood, model)\n",
    "\n",
    "for i in range(training_iter):\n",
    "    # Zero gradients from previous iteration\n",
    "    optimizer.zero_grad()\n",
    "    # Output from model\n",
    "    output = model(X_train)\n",
    "    # Calc loss and backprop gradients\n",
    "    loss = -(mll(output, Y_train))\n",
    "    loss.backward()\n",
    "    print('Iter %d/%d - Loss: %.3f   lengthscale: %.3f   noise: %.3f' % (\n",
    "        i + 1, training_iter, loss.item(),\n",
    "        model.covar_module.base_kernel.lengthscale.item(),\n",
    "        model.likelihood.noise.item()\n",
    "    ))\n",
    "    optimizer.step()"
   ]
  },
  {
   "attachments": {},
   "cell_type": "markdown",
   "metadata": {},
   "source": [
    "## Make predictions with the model\n",
    "\n",
    "In the next cell, we make predictions with the model. To do this, we simply put the model and likelihood in eval mode, and call both modules on the test data.\n",
    "\n",
    "Just as a user defined GP model returns a `MultivariateNormal` containing the prior mean and covariance from forward, a trained GP model in eval mode returns a `MultivariateNormal` containing the posterior mean and covariance.\n",
    "\n",
    "If we denote a test point (`test_x`) as `x*` with the true output being `y*`, then `model(test_x)` returns the model posterior distribution `p(f* | x*, X, y)`, for training data `X, y`. This posterior is the distribution over the function we are trying to model, and thus quantifies our model uncertainty.\n",
    "\n",
    "In contrast, `likelihood(model(test_x))` gives us the posterior predictive distribution `p(y* | x*, X, y)` which is the probability distribution over the predicted output value. Recall in our problem setup \n",
    "\n",
    "$$\n",
    "\\begin{align}\n",
    "y &= \\sin(2\\pi x) + \\epsilon\n",
    "\\end{align}\n",
    "$$\n",
    "\n",
    "where 𝜖 is the likelihood noise for each observation. By including the _likelihood noise_ which is the noise in your observation (e.g. due to noisy sensor), the prediction is over the observed value of the test point.\n",
    "\n",
    "Thus, getting the predictive mean and variance, and then sampling functions from the GP at the given test points could be accomplished with calls like:\n",
    "\n",
    "```python\n",
    "f_preds = model(test_x)\n",
    "y_preds = likelihood(model(test_x))\n",
    "\n",
    "f_mean = f_preds.mean\n",
    "f_var = f_preds.variance\n",
    "f_covar = f_preds.covariance_matrix\n",
    "f_samples = f_preds.sample(sample_shape=torch.Size(1000,))\n",
    "```\n",
    "\n",
    "The `gpytorch.settings.fast_pred_var` context is not needed, but here we are giving a preview of using one of our cool features, getting faster predictive distributions using [LOVE](https://arxiv.org/abs/1803.06058)."
   ]
  },
  {
   "cell_type": "code",
   "execution_count": 23,
   "metadata": {},
   "outputs": [],
   "source": [
    "# Get into evaluation (predictive posterior) mode\n",
    "model.eval()\n",
    "likelihood.eval()\n",
    "\n",
    "# Test points are regularly spaced along [0,1]\n",
    "# Make predictions by feeding model through likelihood\n",
    "with torch.no_grad(), gpytorch.settings.fast_pred_var():\n",
    "    test_x = torch.linspace(0, 1, 51)\n",
    "    observed_pred = likelihood(model(test_x))"
   ]
  },
  {
   "cell_type": "markdown",
   "metadata": {},
   "source": [
    "## Plot the model fit\n",
    "\n",
    "In the next cell, we plot the mean and confidence region of the Gaussian process model. The `confidence_region` method is a helper method that returns 2 standard deviations above and below the mean."
   ]
  },
  {
   "cell_type": "code",
   "execution_count": 24,
   "metadata": {
    "scrolled": false
   },
   "outputs": [
    {
     "data": {
      "image/png": "[encoded data removed]",
      "text/plain": [
       "<Figure size 400x300 with 1 Axes>"
      ]
     },
     "metadata": {},
     "output_type": "display_data"
    }
   ],
   "source": [
    "with torch.no_grad():\n",
    "    # Initialize plot\n",
    "    f, ax = plt.subplots(1, 1, figsize=(4, 3))\n",
    "\n",
    "    # Get upper and lower confidence bounds\n",
    "    lower, upper = observed_pred.confidence_region()\n",
    "    # Plot training data as black stars\n",
    "    ax.plot(train_x.numpy(), train_y.numpy(), 'k*')\n",
    "    # Plot predictive means as blue line\n",
    "    ax.plot(test_x.numpy(), observed_pred.mean.numpy(), 'b')\n",
    "    # Shade between the lower and upper confidence bounds\n",
    "    ax.fill_between(test_x.numpy(), lower.numpy(), upper.numpy(), alpha=0.5)\n",
    "    ax.set_ylim([-3, 3])\n",
    "    ax.legend(['Observed Data', 'Mean', 'Confidence'])"
   ]
  }
 ],
 "metadata": {
  "anaconda-cloud": {},
  "kernelspec": {
   "display_name": "Python 3.9.12 64-bit ('3.9.12')",
   "language": "python",
   "name": "python3"
  },
  "language_info": {
   "codemirror_mode": {
    "name": "ipython",
    "version": 3
   },
   "file_extension": ".py",
   "mimetype": "text/x-python",
   "name": "python",
   "nbconvert_exporter": "python",
   "pygments_lexer": "ipython3",
   "version": "3.10.12"
  },
  "vscode": {
   "interpreter": {
    "hash": "8a61b873b964ebeec997f3785d4891e85789cfba4e32a225b1d76f494e6c6489"
   }
  }
 },
 "nbformat": 4,
 "nbformat_minor": 1
}
